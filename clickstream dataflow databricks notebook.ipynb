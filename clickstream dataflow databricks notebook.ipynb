{
 "cells": [
  {
   "cell_type": "markdown",
   "metadata": {},
   "source": [
    "# Web users clickstream streaming data pipeline on Databricks and GCP"
   ]
  },
  {
   "cell_type": "markdown",
   "metadata": {},
   "source": [
    "## This jupyter notebook run on Databricks platform which connect with GCP \n",
    "\n",
    "1. Databricks try to connect and read data directly from confluent cloud topic, which is a managed Kafka platform. I create two kafka topics, one is called 'clickstream', the other is 'pksqlc-n0r06USER_CLICKSTREAM' which contains both user click stream and user information.\n",
    "\n",
    "2. Databricks connect with Google cloud storage as the sink for streaming data.\n",
    "\n",
    "3. In this notebook, both SQL and Python are used for creating a streaming data pipeline, collect data from Kafka topic and load data to Google cloud storage."
   ]
  },
  {
   "cell_type": "markdown",
   "metadata": {},
   "source": [
    "## Key and secrete for connecting kafka topics, which is generate from confluent cloud"
   ]
  },
  {
   "cell_type": "code",
   "execution_count": 3,
   "metadata": {
    "application/vnd.databricks.v1+cell": {
     "cellMetadata": {},
     "inputWidgets": {},
     "nuid": "b3714a6b-a296-4788-91f8-bad6d7dfd8b0",
     "showTitle": false,
     "title": ""
    }
   },
   "outputs": [],
   "source": [
    "kafkaUser = \"xxxxxxx\"\n",
    "kafkaSecret = \"xxxxxxxxxxxxxxxxxxxxxxxxxxxxxxxxxxxxxxxx\""
   ]
  },
  {
   "cell_type": "markdown",
   "metadata": {},
   "source": [
    "## 1. TOPIC: click_stream"
   ]
  },
  {
   "cell_type": "markdown",
   "metadata": {
    "application/vnd.databricks.v1+cell": {
     "cellMetadata": {},
     "inputWidgets": {},
     "nuid": "a2700a92-622a-4cac-9f7b-5408773ab2c5",
     "showTitle": false,
     "title": ""
    }
   },
   "source": [
    "### Using confluent databricks connector to connect databricks with kafka topics. And read streaming data from kafka topic: 'clickstream'.  Change data to be table for later using SQL.\n"
   ]
  },
  {
   "cell_type": "code",
   "execution_count": 0,
   "metadata": {
    "application/vnd.databricks.v1+cell": {
     "cellMetadata": {},
     "inputWidgets": {},
     "nuid": "01cf9dfa-b91d-45b4-b9d9-ae4f9d9d10fb",
     "showTitle": false,
     "title": ""
    }
   },
   "outputs": [],
   "source": [
    "# connect kafka topic clickstream, this topic include the information for user web click information\n",
    "(\n",
    "    spark\n",
    "    .readStream\n",
    "    .format(\"kafka\")\n",
    "    .option(\"kafka.bootstrap.servers\", \"pkc-3w22w.us-central1.gcp.confluent.cloud:9092\")\n",
    "    .option(\"kafka.sasl.jaas.config\", \"kafkashaded.org.apache.kafka.common.security.plain.PlainLoginModule required username='{}' password='{}';\".format(kafkaUser, kafkaSecret))\n",
    "    .option(\"kafka.security.protocol\", \"SASL_SSL\")\n",
    "    .option(\"kafka.sasl.mechanism\", \"PLAIN\")\n",
    "    .option(\"subscribe\", \"clickstream\")\n",
    "    .option(\"startingOffsets\", \"earliest\")\n",
    "    .load()\n",
    "    .createOrReplaceTempView(\"click_stream\")\n",
    ")"
   ]
  },
  {
   "cell_type": "code",
   "execution_count": 0,
   "metadata": {
    "application/vnd.databricks.v1+cell": {
     "cellMetadata": {
      "implicitDf": true
     },
     "inputWidgets": {},
     "nuid": "a4359f86-a0f1-4a5d-917c-ea8d28cbd6c3",
     "showTitle": false,
     "title": ""
    }
   },
   "outputs": [],
   "source": [
    "%sql\n",
    "select * from click_stream"
   ]
  },
  {
   "cell_type": "markdown",
   "metadata": {},
   "source": [
    "### Convert key, value column to json string type, and select useful column."
   ]
  },
  {
   "cell_type": "code",
   "execution_count": null,
   "metadata": {
    "application/vnd.databricks.v1+cell": {
     "cellMetadata": {
      "implicitDf": true
     },
     "inputWidgets": {},
     "nuid": "00bd8e8c-1f47-4dc7-8289-971baea74309",
     "showTitle": false,
     "title": ""
    }
   },
   "outputs": [],
   "source": [
    "%sql\n",
    "CREATE OR REPLACE TEMPORARY VIEW click_stream_parsed\n",
    "AS\n",
    "SELECT string(key), string(value), topic, partition, offset, timestamp, timestampType\n",
    "FROM click_stream"
   ]
  },
  {
   "cell_type": "markdown",
   "metadata": {},
   "source": [
    "### Parse json string to different columns, and assign different data types"
   ]
  },
  {
   "cell_type": "code",
   "execution_count": 0,
   "metadata": {
    "application/vnd.databricks.v1+cell": {
     "cellMetadata": {
      "implicitDf": true
     },
     "inputWidgets": {},
     "nuid": "4887ca84-bdb0-4d2f-8e6a-8465958511dc",
     "showTitle": false,
     "title": ""
    }
   },
   "outputs": [],
   "source": [
    "%sql\n",
    "CREATE OR REPLACE TEMPORARY VIEW click_stream_final\n",
    "AS\n",
    "SELECT key, value: _time, cast(value: time as bigint), value: ip, value: request, \n",
    "cast(value: status as int), value: userid, cast(value: bytes as bigint), value: agent, \n",
    "topic, partition, offset, timestamp, timestampType\n",
    "FROM click_stream_parsed"
   ]
  },
  {
   "cell_type": "code",
   "execution_count": 0,
   "metadata": {
    "application/vnd.databricks.v1+cell": {
     "cellMetadata": {
      "implicitDf": true
     },
     "inputWidgets": {},
     "nuid": "de6f16a5-69f7-4146-9fb2-a206f1c02f98",
     "showTitle": false,
     "title": ""
    }
   },
   "outputs": [],
   "source": [
    "%sql\n",
    "select * from click_stream_final"
   ]
  },
  {
   "cell_type": "code",
   "execution_count": 0,
   "metadata": {
    "application/vnd.databricks.v1+cell": {
     "cellMetadata": {},
     "inputWidgets": {},
     "nuid": "b7481532-76b3-4f2e-8c1a-aaf1d3dd4f7f",
     "showTitle": false,
     "title": ""
    }
   },
   "outputs": [],
   "source": [
    "from pyspark.sql.functions import *\n",
    "\n",
    "df_click_stream = (\n",
    "    spark.table('click_stream_final'))"
   ]
  },
  {
   "cell_type": "code",
   "execution_count": 0,
   "metadata": {
    "application/vnd.databricks.v1+cell": {
     "cellMetadata": {
      "implicitDf": true
     },
     "inputWidgets": {},
     "nuid": "cb335088-7523-4d51-a9e2-a5f1f09164a6",
     "showTitle": false,
     "title": ""
    }
   },
   "outputs": [],
   "source": [
    "%sql\n",
    "select count(*) from click_stream_final"
   ]
  },
  {
   "cell_type": "markdown",
   "metadata": {
    "application/vnd.databricks.v1+cell": {
     "cellMetadata": {},
     "inputWidgets": {},
     "nuid": "3d008f87-3f0b-4992-b85f-a1199015acc8",
     "showTitle": false,
     "title": ""
    }
   },
   "source": [
    "###  Aggregate and analyse the streaming table. Table of html pages per minute for each user, slide window"
   ]
  },
  {
   "cell_type": "code",
   "execution_count": 0,
   "metadata": {
    "application/vnd.databricks.v1+cell": {
     "cellMetadata": {},
     "inputWidgets": {},
     "nuid": "9989aee7-68f2-4bb8-ba48-1e61887c5b11",
     "showTitle": false,
     "title": ""
    }
   },
   "outputs": [],
   "source": [
    "from pyspark.sql.functions import *\n",
    "\n",
    "(df_click_stream\n",
    " .withWatermark(\"timestamp\", \"60 seconds\")\n",
    " .filter(\"request LIKE '%html%'\")\n",
    " .groupBy(window(col(\"timestamp\"), \"60 seconds\", \"5 second\"), \"userid\")\n",
    " .agg(count(\"*\").alias(\"pages\"))\n",
    " .select(col(\"userid\"), col(\"window.start\").alias(\"EVENT_start\"), col(\"window.end\").alias(\"EVENT_end\"), col(\"pages\"))\n",
    " .createOrReplaceTempView(\"click_stream_analyse\"))"
   ]
  },
  {
   "cell_type": "code",
   "execution_count": 0,
   "metadata": {
    "application/vnd.databricks.v1+cell": {
     "cellMetadata": {
      "implicitDf": true
     },
     "inputWidgets": {},
     "nuid": "88013dd6-3b7f-4260-a1f7-8401f5c7267e",
     "showTitle": false,
     "title": ""
    }
   },
   "outputs": [],
   "source": [
    "%sql\n",
    "select * from click_stream_analyse\n",
    "where userid = 19\n",
    "order by event_start desc"
   ]
  },
  {
   "cell_type": "markdown",
   "metadata": {},
   "source": [
    "### Create a new table pages_per_min from click_stream_analyse tempView, and load it to GCS continuesly"
   ]
  },
  {
   "cell_type": "code",
   "execution_count": 0,
   "metadata": {
    "application/vnd.databricks.v1+cell": {
     "cellMetadata": {},
     "inputWidgets": {},
     "nuid": "3221965a-f6bc-490b-bc13-eecf1e1f9e84",
     "showTitle": false,
     "title": ""
    }
   },
   "outputs": [],
   "source": [
    "query = (spark\n",
    "         .readStream\n",
    "         .table(\"click_stream_analyse\")\n",
    "         .writeStream\n",
    "         .option(\"checkpointLocation\", \"/FileStore/tables/checkpoint/pages_per_min\")\n",
    "         .outputMode(\"append\")\n",
    "         .trigger(processingTime='4 seconds')\n",
    "         .table(\"pages_per_min\"))"
   ]
  },
  {
   "cell_type": "code",
   "execution_count": 0,
   "metadata": {
    "application/vnd.databricks.v1+cell": {
     "cellMetadata": {
      "implicitDf": true
     },
     "inputWidgets": {},
     "nuid": "82b1a5c9-7a83-4478-aa02-592df297a3d2",
     "showTitle": false,
     "title": ""
    }
   },
   "outputs": [],
   "source": [
    "%sql\n",
    "select count(*) from pages_per_min"
   ]
  },
  {
   "cell_type": "code",
   "execution_count": 0,
   "metadata": {
    "application/vnd.databricks.v1+cell": {
     "cellMetadata": {
      "implicitDf": true
     },
     "inputWidgets": {},
     "nuid": "6c815138-3fbe-4a26-94d5-088ead9fb884",
     "showTitle": false,
     "title": ""
    }
   },
   "outputs": [],
   "source": [
    "%sql\n",
    "describe detail pages_per_min"
   ]
  },
  {
   "cell_type": "markdown",
   "metadata": {
    "application/vnd.databricks.v1+cell": {
     "cellMetadata": {},
     "inputWidgets": {},
     "nuid": "3c28592d-b803-46ba-ad33-3ca2905a150f",
     "showTitle": false,
     "title": ""
    }
   },
   "source": [
    "###  Aggregate and analyse the streaming table. Count number of errors per min, only show ERROR codes > 400\n",
    "#### where count > 5\n",
    "#### slide window "
   ]
  },
  {
   "cell_type": "code",
   "execution_count": 0,
   "metadata": {
    "application/vnd.databricks.v1+cell": {
     "cellMetadata": {},
     "inputWidgets": {},
     "nuid": "45a2d805-4533-4f4a-a282-a5421f93fa27",
     "showTitle": false,
     "title": ""
    }
   },
   "outputs": [],
   "source": [
    "(df_click_stream\n",
    " .withWatermark(\"timestamp\", \"60 seconds\")\n",
    " .filter(\"status > 400\")\n",
    " .groupBy(window(col(\"timestamp\"), \"60 seconds\", \"20 seconds\"), col(\"status\"))\n",
    " .agg(count(\"*\").alias(\"errors\"))\n",
    " .filter(\"errors > 5 AND errors IS NOT NULL\")\n",
    " .select(col(\"status\"), col(\"window.start\").alias(\"EVENT_start\"), col(\"window.end\").alias(\"EVENT_end\"), col(\"errors\"))\n",
    " .createOrReplaceTempView(\"click_stream_error\"))"
   ]
  },
  {
   "cell_type": "code",
   "execution_count": 0,
   "metadata": {
    "application/vnd.databricks.v1+cell": {
     "cellMetadata": {
      "implicitDf": true
     },
     "inputWidgets": {},
     "nuid": "977b6320-23e2-4600-87e5-58abbad44829",
     "showTitle": false,
     "title": ""
    }
   },
   "outputs": [],
   "source": [
    "%sql\n",
    "select * from click_stream_error"
   ]
  },
  {
   "cell_type": "code",
   "execution_count": 0,
   "metadata": {
    "application/vnd.databricks.v1+cell": {
     "cellMetadata": {
      "implicitDf": true
     },
     "inputWidgets": {},
     "nuid": "a3823024-4874-47c7-a4ec-62058261b702",
     "showTitle": false,
     "title": ""
    }
   },
   "outputs": [],
   "source": [
    "%sql\n",
    "select * from click_stream_error\n",
    "where status = 404\n",
    "order by event_start desc"
   ]
  },
  {
   "cell_type": "markdown",
   "metadata": {},
   "source": [
    "### Create a new table errors_per_min_alert from click_stream_error tempView, and load it to GCS continuesly"
   ]
  },
  {
   "cell_type": "code",
   "execution_count": 0,
   "metadata": {
    "application/vnd.databricks.v1+cell": {
     "cellMetadata": {},
     "inputWidgets": {},
     "nuid": "4661f275-62bb-47d6-8498-048574febe1c",
     "showTitle": false,
     "title": ""
    }
   },
   "outputs": [],
   "source": [
    "query = (spark\n",
    "         .readStream\n",
    "         .table(\"click_stream_error\")\n",
    "         .writeStream\n",
    "         .option(\"checkpointLocation\", \"/FileStore/tables/checkpoint/errors_per_min_alert\")\n",
    "         .outputMode(\"append\")\n",
    "         .trigger(processingTime='4 seconds')\n",
    "         .table(\"errors_per_min_alert\"))"
   ]
  },
  {
   "cell_type": "markdown",
   "metadata": {},
   "source": [
    "## 2. TOPIC pksqlc-n0r06USER_CLICKSTREAM (both clickstream and user information)"
   ]
  },
  {
   "cell_type": "markdown",
   "metadata": {
    "application/vnd.databricks.v1+cell": {
     "cellMetadata": {},
     "inputWidgets": {},
     "nuid": "67524eee-3ea3-40f0-a0aa-91eb1cb038e9",
     "showTitle": false,
     "title": ""
    }
   },
   "source": [
    "### load streaming data flow from kafka topic: pksqlc-n0r06USER_CLICKSTREAM, and do some streaming data transform.\n",
    "### This topic contain both user and clickstream information"
   ]
  },
  {
   "cell_type": "code",
   "execution_count": 0,
   "metadata": {
    "application/vnd.databricks.v1+cell": {
     "cellMetadata": {},
     "inputWidgets": {},
     "nuid": "cc607e19-6894-487b-8cf5-6fc58ae5ba63",
     "showTitle": false,
     "title": ""
    }
   },
   "outputs": [],
   "source": [
    "(\n",
    "    spark\n",
    "    .readStream\n",
    "    .format(\"kafka\")\n",
    "    .option(\"kafka.bootstrap.servers\", \"pkc-3w22w.us-central1.gcp.confluent.cloud:9092\")\n",
    "    .option(\"kafka.sasl.jaas.config\", \"kafkashaded.org.apache.kafka.common.security.plain.PlainLoginModule required username='{}' password='{}';\".format(kafkaUser, kafkaSecret))\n",
    "    .option(\"kafka.security.protocol\", \"SASL_SSL\")\n",
    "    .option(\"kafka.sasl.mechanism\", \"PLAIN\")\n",
    "    .option(\"subscribe\", \"pksqlc-n0r06USER_CLICKSTREAM\")\n",
    "    .option(\"startingOffsets\", \"earliest\")\n",
    "    .load()\n",
    "    .createOrReplaceTempView(\"user_clicks\")\n",
    ")"
   ]
  },
  {
   "cell_type": "code",
   "execution_count": 0,
   "metadata": {
    "application/vnd.databricks.v1+cell": {
     "cellMetadata": {
      "implicitDf": true
     },
     "inputWidgets": {},
     "nuid": "03d824f7-65e0-4519-9aea-29e71014f610",
     "showTitle": false,
     "title": ""
    }
   },
   "outputs": [],
   "source": [
    "%sql\n",
    "select count(*) from user_clicks"
   ]
  },
  {
   "cell_type": "code",
   "execution_count": 0,
   "metadata": {
    "application/vnd.databricks.v1+cell": {
     "cellMetadata": {
      "implicitDf": true
     },
     "inputWidgets": {},
     "nuid": "b7cc0d92-be2d-42d0-b76d-f11d1ee5161d",
     "showTitle": false,
     "title": ""
    }
   },
   "outputs": [],
   "source": [
    "%sql\n",
    "select * from user_clicks"
   ]
  },
  {
   "cell_type": "markdown",
   "metadata": {},
   "source": [
    "### Convert key, value column to json string type, and select useful column."
   ]
  },
  {
   "cell_type": "code",
   "execution_count": 0,
   "metadata": {
    "application/vnd.databricks.v1+cell": {
     "cellMetadata": {
      "implicitDf": true
     },
     "inputWidgets": {},
     "nuid": "687ff393-f4a1-4e51-8457-480b3717079a",
     "showTitle": false,
     "title": ""
    }
   },
   "outputs": [],
   "source": [
    "%sql\n",
    "CREATE OR REPLACE TEMPORARY VIEW user_click_string\n",
    "AS\n",
    "SELECT string(key), string(value), topic, partition, offset, timestamp, timestampType\n",
    "FROM user_clicks"
   ]
  },
  {
   "cell_type": "code",
   "execution_count": 0,
   "metadata": {
    "application/vnd.databricks.v1+cell": {
     "cellMetadata": {
      "implicitDf": true
     },
     "inputWidgets": {},
     "nuid": "a43e6bac-51ff-49ef-a9a8-5baefb56ea05",
     "showTitle": false,
     "title": ""
    }
   },
   "outputs": [],
   "source": [
    "%sql\n",
    "select * from user_click_string"
   ]
  },
  {
   "cell_type": "markdown",
   "metadata": {},
   "source": [
    "### Returns a struct value with the jsonStr and  for value column"
   ]
  },
  {
   "cell_type": "code",
   "execution_count": 0,
   "metadata": {
    "application/vnd.databricks.v1+cell": {
     "cellMetadata": {
      "implicitDf": true
     },
     "inputWidgets": {},
     "nuid": "9f5e29bd-f801-4975-acff-2a695025e9ad",
     "showTitle": false,
     "title": ""
    }
   },
   "outputs": [],
   "source": [
    "%sql\n",
    "CREATE OR REPLACE TEMP VIEW parsed_user_click AS\n",
    "SELECT key, from_json(value, schema_of_json('{\"USERNAME\":\"ArlyneW8ter\",\"REGISTERED_AT\":1420654807513,\"IP\":\"222.245.174.222\",\"CITY\":\"London\",\"REQUEST\":\"GET /index.html HTTP/1.1\",\"STATUS\":404,\"BYTES\":4006}')) AS value, topic, partition, offset, timestamp, timestampType\n",
    "FROM user_click_string\n",
    "\n",
    "SELECT * FROM parsed_user_click"
   ]
  },
  {
   "cell_type": "markdown",
   "metadata": {},
   "source": [
    "### Parse json string to different columns, and assign different data types"
   ]
  },
  {
   "cell_type": "code",
   "execution_count": 0,
   "metadata": {
    "application/vnd.databricks.v1+cell": {
     "cellMetadata": {
      "implicitDf": true
     },
     "inputWidgets": {},
     "nuid": "4e6bd45f-631d-4425-9836-2aa22314c00d",
     "showTitle": false,
     "title": ""
    }
   },
   "outputs": [],
   "source": [
    "%sql\n",
    "CREATE OR REPLACE TEMP VIEW user_click_final AS\n",
    "SELECT key, value.*, topic, partition, offset, timestamp, timestampType\n",
    "FROM parsed_user_click\n",
    "\n",
    "SELECT * FROM user_click_final"
   ]
  },
  {
   "cell_type": "markdown",
   "metadata": {
    "application/vnd.databricks.v1+cell": {
     "cellMetadata": {},
     "inputWidgets": {},
     "nuid": "f324763c-a550-42be-a44b-458569973ecb",
     "showTitle": false,
     "title": ""
    }
   },
   "source": [
    "### Session window analyse from temp view user_click_final\n",
    "### 30 seconds of inactivity expires the session, and counts number of events within the session"
   ]
  },
  {
   "cell_type": "code",
   "execution_count": 0,
   "metadata": {
    "application/vnd.databricks.v1+cell": {
     "cellMetadata": {},
     "inputWidgets": {},
     "nuid": "0a8afa7d-0b5a-47bb-a969-24e2181f06d8",
     "showTitle": false,
     "title": ""
    }
   },
   "outputs": [],
   "source": [
    "(spark\n",
    " .table(\"user_click_final\")\n",
    " .withWatermark(\"timestamp\", \"30 seconds\")\n",
    " .groupBy(session_window(col(\"timestamp\"), \"30 seconds\"), col(\"USERNAME\"))\n",
    " .agg(count(\"*\").alias(\"events\"))\n",
    " .select(col(\"USERNAME\"), col(\"session_window.start\").alias(\"EVENT_start\"), col(\"session_window.end\").alias(\"EVENT_end\"), col(\"events\"))\n",
    " .createOrReplaceTempView(\"click_user_session_temp\"))"
   ]
  },
  {
   "cell_type": "code",
   "execution_count": 0,
   "metadata": {
    "application/vnd.databricks.v1+cell": {
     "cellMetadata": {
      "implicitDf": true
     },
     "inputWidgets": {},
     "nuid": "09a4cecc-62c1-4e56-9798-024ca1f5761f",
     "showTitle": false,
     "title": ""
    }
   },
   "outputs": [],
   "source": [
    "%sql\n",
    "select * from click_user_session_temp"
   ]
  },
  {
   "cell_type": "code",
   "execution_count": 0,
   "metadata": {
    "application/vnd.databricks.v1+cell": {
     "cellMetadata": {
      "implicitDf": true
     },
     "inputWidgets": {},
     "nuid": "851e0fb6-b1e0-405c-b1a5-0f54a24e1d28",
     "showTitle": false,
     "title": ""
    }
   },
   "outputs": [],
   "source": [
    "%sql\n",
    "select * from click_user_session_temp\n",
    "where username = 'Nathan_126'\n",
    "order by event_start desc"
   ]
  },
  {
   "cell_type": "markdown",
   "metadata": {},
   "source": [
    "### Write the analysed data to a new table, save it to Google cloud storage."
   ]
  },
  {
   "cell_type": "code",
   "execution_count": 0,
   "metadata": {
    "application/vnd.databricks.v1+cell": {
     "cellMetadata": {},
     "inputWidgets": {},
     "nuid": "ef81868b-b973-4c5a-9a70-5d6a0615e9da",
     "showTitle": false,
     "title": ""
    }
   },
   "outputs": [],
   "source": [
    "query = (spark\n",
    "         .readStream\n",
    "         .table(\"click_user_session_temp\")\n",
    "         .writeStream\n",
    "         .option(\"checkpointLocation\", \"/FileStore/tables/checkpoint/click_user_sessions\")\n",
    "         .outputMode(\"append\")\n",
    "         .trigger(processingTime='4 seconds')\n",
    "         .table(\"click_user_sessions\"))"
   ]
  },
  {
   "cell_type": "markdown",
   "metadata": {
    "application/vnd.databricks.v1+cell": {
     "cellMetadata": {},
     "inputWidgets": {},
     "nuid": "89bcb67d-ffd4-4b88-9292-ab621b5cf90e",
     "showTitle": false,
     "title": ""
    }
   },
   "source": [
    "###  Enriched user details table:\n",
    "###  Aggregate (count&groupBy) using a TUMBLING-Window\n",
    "###  Count user activity within 60s"
   ]
  },
  {
   "cell_type": "code",
   "execution_count": 0,
   "metadata": {
    "application/vnd.databricks.v1+cell": {
     "cellMetadata": {},
     "inputWidgets": {},
     "nuid": "91a054fe-8c5f-452f-8513-13bade0bb16d",
     "showTitle": false,
     "title": ""
    }
   },
   "outputs": [],
   "source": [
    "(spark\n",
    " .table(\"user_click_final\")\n",
    " .withWatermark(\"timestamp\", \"60 seconds\")\n",
    " .groupBy(window(col(\"timestamp\"), \"60 seconds\"), col(\"username\"), col(\"ip\"), col(\"city\"))\n",
    " .agg(count(\"*\").alias(\"count\"))\n",
    " .filter(\"count > 1\")\n",
    " .select(col(\"username\"), col(\"ip\"), col(\"city\"), col(\"window.start\").alias(\"EVENT_start\"), col(\"window.end\").alias(\"EVENT_end\"), col(\"count\"))\n",
    " .createOrReplaceTempView(\"user_ip_activity_temp\"))"
   ]
  },
  {
   "cell_type": "code",
   "execution_count": 0,
   "metadata": {
    "application/vnd.databricks.v1+cell": {
     "cellMetadata": {
      "implicitDf": true
     },
     "inputWidgets": {},
     "nuid": "2a828f94-f856-43e0-878e-249c78bd3448",
     "showTitle": false,
     "title": ""
    }
   },
   "outputs": [],
   "source": [
    "%sql\n",
    "select * from user_ip_activity_temp"
   ]
  },
  {
   "cell_type": "code",
   "execution_count": 0,
   "metadata": {
    "application/vnd.databricks.v1+cell": {
     "cellMetadata": {
      "implicitDf": true
     },
     "inputWidgets": {},
     "nuid": "63c117be-cc6a-4b74-a3bd-98959447c2f7",
     "showTitle": false,
     "title": ""
    }
   },
   "outputs": [],
   "source": [
    "%sql\n",
    "select * from user_ip_activity_temp\n",
    "where username = \"Reeva43\" and ip = \"111.245.174.111\" and city = \"Raleigh\"\n",
    "order by event_start desc"
   ]
  },
  {
   "cell_type": "markdown",
   "metadata": {},
   "source": [
    "### Write the analysed data to a new table, save it to Google cloud storage."
   ]
  },
  {
   "cell_type": "code",
   "execution_count": 0,
   "metadata": {
    "application/vnd.databricks.v1+cell": {
     "cellMetadata": {},
     "inputWidgets": {},
     "nuid": "aa42b417-f8e4-4f6c-a02c-a18bb06e4f8e",
     "showTitle": false,
     "title": ""
    }
   },
   "outputs": [],
   "source": [
    "query = (spark\n",
    "         .readStream\n",
    "         .table(\"user_ip_activity_temp\")\n",
    "         .writeStream\n",
    "         .option(\"checkpointLocation\", \"/FileStore/tables/checkpoint/user_ip_activity\")\n",
    "         .outputMode(\"append\")\n",
    "         .trigger(processingTime='4 seconds')\n",
    "         .table(\"user_ip_activity\"))"
   ]
  }
 ],
 "metadata": {
  "application/vnd.databricks.v1+notebook": {
   "dashboards": [],
   "language": "python",
   "notebookMetadata": {
    "mostRecentlyExecutedCommandWithImplicitDF": {
     "commandId": 1855571946971394,
     "dataframes": [
      "_sqldf"
     ]
    },
    "pythonIndentUnit": 4
   },
   "notebookName": "clickstream dataflow (2)",
   "notebookOrigID": 1242937409075246,
   "widgets": {}
  },
  "kernelspec": {
   "display_name": "Python 3",
   "language": "python",
   "name": "python3"
  },
  "language_info": {
   "codemirror_mode": {
    "name": "ipython",
    "version": 3
   },
   "file_extension": ".py",
   "mimetype": "text/x-python",
   "name": "python",
   "nbconvert_exporter": "python",
   "pygments_lexer": "ipython3",
   "version": "3.8.11"
  }
 },
 "nbformat": 4,
 "nbformat_minor": 1
}
